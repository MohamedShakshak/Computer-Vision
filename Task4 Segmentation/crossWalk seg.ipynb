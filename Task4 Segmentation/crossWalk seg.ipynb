{
 "cells": [
  {
   "cell_type": "code",
   "execution_count": null,
   "metadata": {
    "vscode": {
     "languageId": "plaintext"
    }
   },
   "outputs": [],
   "source": [
    "import cv2\n",
    "import numpy as np\n",
    "from ultralytics import YOLO\n",
    "from ultralytics.utils.plotting import Annotator, colors\n",
    "import time\n",
    "\n",
    "\n",
    "\n",
    "model = YOLO(\"yolov9c-seg.pt\")   # segmentation model\n",
    "cap = cv2.VideoCapture('traffictrim.mp4') # traffictrim.mp4\n",
    "w, h, fps = (int(cap.get(x)) for x in (cv2.CAP_PROP_FRAME_WIDTH, cv2.CAP_PROP_FRAME_HEIGHT, cv2.CAP_PROP_FPS))\n",
    "\n",
    "out = cv2.VideoWriter('instance-segmentation-object-tracking.avi', cv2.VideoWriter_fourcc(*'MJPG'), fps, (w, h))\n",
    "\n",
    "while True:\n",
    "    ret, im0 = cap.read()\n",
    "    if not ret:\n",
    "        print(\"Video frame is empty or video processing has been successfully completed.\")\n",
    "        break\n",
    "\n",
    "    annotator = Annotator(im0, line_width=2)\n",
    "    \n",
    "    results = model.track(im0 ,iou=0.5, show=False ,persist=True , tracker=\"bytetrack.yaml\")\n",
    "    \n",
    "    if results[0].boxes.id is not None and results[0].masks is not None:\n",
    "        masks = results[0].masks.xy\n",
    "        track_ids = results[0].boxes.id.int().cpu().tolist()\n",
    "\n",
    "        for mask, track_id in zip(masks, track_ids):\n",
    "            # annotator.seg_bbox(mask=mask,\n",
    "            #                     mask_color=colors(track_id, True),\n",
    "            #                     track_label=str(track_id))\n",
    "            cv2.polylines(im0, [np.int32([mask])], isClosed=True, color=(255,0,0), thickness=2)\n",
    "            cv2.putText(im0, f'{track_id}', (int(mask[0][0]),int(mask[0][1])), cv2.FONT_HERSHEY_SIMPLEX,1.2,(255,0,0), 3)\n",
    "    \n",
    "     \n",
    "    out.write(im0)\n",
    "\n",
    "    cv2.imshow(\"instance-segmentation-object-tracking\", im0)\n",
    "\n",
    "    if cv2.waitKey(1) & 0xFF == ord('q'):\n",
    "        break\n",
    "\n",
    "out.release()\n",
    "cap.release()\n",
    "cv2.destroyAllWindows()"
   ]
  }
 ],
 "metadata": {
  "language_info": {
   "name": "python"
  }
 },
 "nbformat": 4,
 "nbformat_minor": 2
}
